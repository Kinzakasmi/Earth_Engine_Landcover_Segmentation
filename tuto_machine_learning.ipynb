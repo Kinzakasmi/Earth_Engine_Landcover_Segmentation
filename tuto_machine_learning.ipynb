{
 "cells": [
  {
   "cell_type": "markdown",
   "metadata": {},
   "source": [
    "# Project Pipeline\n",
    "<img src=\"tuto_images/9.PNG\" width=\"800\">  \n",
    "\n",
    "***"
   ]
  },
  {
   "cell_type": "markdown",
   "metadata": {},
   "source": [
    "# <font color=red> Welcome to this machine learninig prediction tutorial ! </font>\n",
    "            \n",
    "### There are 4 different steps :   \n",
    ">- Install and import libraries, create folders and define parameters.  \n",
    ">    *Parameters followed by **#@param** are variables, you can change them.*\n",
    ">- Construct your dataset. \n",
    ">- Load and process your dataset.\n",
    ">- Train and evaluate your model.  \n",
    ">- Predict your zone of interest. \n",
    "\n",
    "**If you already have a pretrained model, do only step 1 and 4**\n",
    "\n",
    "### Table of Contents\n",
    "* [I. Libraries and Variables](#I.-Libraries-and-Variables)\n",
    "* [II. Training](#II.Training) (**skip this if you already have a pretrained model**)\n",
    "    - [II. 1. Dataset Construction](#II.-1.-Dataset-Construction)\n",
    "    - [II. 2. Dataset Loading and Processing](#II.-2.-Dataset-Loading-and-Processing)\n",
    "    - [II. 3. Model Training and Evaluation](#II.-3.-Model-Training-and-Evaluation)\n",
    "* [III. Inference](#III.-Inference)  \n",
    "    - [III. 1. Label Image](#III.-1.-Label-Image)\n",
    "    - [III. 2. Pipe Classification, Network Statistics and KMLs](#III.-2.-Pipe-Classification,-Network-Statistics-and-KMLs)\n",
    "* [IV. Google Earth Engine Editor Tutorials](#IV.-Tutorials)  "
   ]
  },
  {
   "cell_type": "markdown",
   "metadata": {},
   "source": [
    "# I. Libraries and Variables\n",
    "### First create a new virtual environment (you will have problems with your package versions otherwise)  \n",
    "### Then install all requirements by running the following :\n",
    "\n",
    "*Careful* if you have multiple python versions :\n",
    "- If you are on your default python, run : **!pip** install -r requirements.txt\n",
    "- If you are on another python version, add your version number to pip. Example, if you are working on python3.8 run **!pip3.8** install -r requirements.txt"
   ]
  },
  {
   "cell_type": "code",
   "execution_count": 1,
   "metadata": {},
   "outputs": [
    {
     "name": "stdout",
     "output_type": "stream",
     "text": [
      "pip 20.2.2 from C:\\Users\\leakm\\AppData\\Roaming\\Python\\Python37\\site-packages\\pip (python 3.7)\n",
      "\n"
     ]
    }
   ],
   "source": [
    "# Check which python you use for your default pipe\n",
    "!pip --version"
   ]
  },
  {
   "cell_type": "code",
   "execution_count": 3,
   "metadata": {},
   "outputs": [
    {
     "name": "stdout",
     "output_type": "stream",
     "text": [
      "Requirement already satisfied: dask[dataframe] in c:\\users\\leakm\\anaconda3\\envs\\myenv\\lib\\site-packages (from -r requirements.txt (line 1)) (2.30.0)\n",
      "Requirement already satisfied: earthengine-api in c:\\users\\leakm\\anaconda3\\envs\\myenv\\lib\\site-packages (from -r requirements.txt (line 2)) (0.1.242)\n",
      "Requirement already satisfied: tensorflow in c:\\users\\leakm\\anaconda3\\envs\\myenv\\lib\\site-packages (from -r requirements.txt (line 3)) (2.3.1)\n",
      "Requirement already satisfied: numpy in c:\\users\\leakm\\appdata\\roaming\\python\\python37\\site-packages (from -r requirements.txt (line 4)) (1.18.5)\n",
      "Requirement already satisfied: matplotlib in c:\\users\\leakm\\anaconda3\\envs\\myenv\\lib\\site-packages (from -r requirements.txt (line 5)) (3.3.1)\n",
      "Requirement already satisfied: simplekml in c:\\users\\leakm\\anaconda3\\envs\\myenv\\lib\\site-packages (from -r requirements.txt (line 6)) (1.3.5)\n",
      "Collecting osgeo\n",
      "  Using cached osgeo-0.0.0-py3-none-any.whl (1.1 kB)\n",
      "Requirement already satisfied: sklearn in c:\\users\\leakm\\anaconda3\\envs\\myenv\\lib\\site-packages (from -r requirements.txt (line 8)) (0.0)\n",
      "Requirement already satisfied: imblearn in c:\\users\\leakm\\anaconda3\\envs\\myenv\\lib\\site-packages (from -r requirements.txt (line 9)) (0.0)\n",
      "Requirement already satisfied: joblib in c:\\users\\leakm\\anaconda3\\envs\\myenv\\lib\\site-packages (from -r requirements.txt (line 10)) (0.16.0)\n",
      "Processing c:\\users\\leakm\\appdata\\local\\pip\\cache\\wheels\\65\\55\\85\\945cfb3d67373767e4dc3e9629300a926edde52633df4f0efe\\umap-0.1.1-py3-none-any.whl\n",
      "Requirement already satisfied: seaborn in c:\\users\\leakm\\anaconda3\\envs\\myenv\\lib\\site-packages (from -r requirements.txt (line 12)) (0.11.0)\n",
      "Requirement already satisfied: pandas in c:\\users\\leakm\\anaconda3\\envs\\myenv\\lib\\site-packages (from -r requirements.txt (line 13)) (1.1.0)\n",
      "Requirement already satisfied: swifter in c:\\users\\leakm\\anaconda3\\envs\\myenv\\lib\\site-packages (from -r requirements.txt (line 14)) (1.0.7)\n",
      "Requirement already satisfied: pyyaml in c:\\users\\leakm\\anaconda3\\envs\\myenv\\lib\\site-packages (from dask[dataframe]->-r requirements.txt (line 1)) (5.3.1)\n",
      "Requirement already satisfied: partd>=0.3.10; extra == \"dataframe\" in c:\\users\\leakm\\anaconda3\\envs\\myenv\\lib\\site-packages (from dask[dataframe]->-r requirements.txt (line 1)) (1.1.0)\n",
      "Requirement already satisfied: fsspec>=0.6.0; extra == \"dataframe\" in c:\\users\\leakm\\anaconda3\\envs\\myenv\\lib\\site-packages (from dask[dataframe]->-r requirements.txt (line 1)) (0.8.4)\n",
      "Requirement already satisfied: toolz>=0.8.2; extra == \"dataframe\" in c:\\users\\leakm\\anaconda3\\envs\\myenv\\lib\\site-packages (from dask[dataframe]->-r requirements.txt (line 1)) (0.11.1)\n",
      "Requirement already satisfied: google-api-python-client>=1.12.1 in c:\\users\\leakm\\anaconda3\\envs\\myenv\\lib\\site-packages (from earthengine-api->-r requirements.txt (line 2)) (1.12.5)\n",
      "Requirement already satisfied: google-auth-httplib2>=0.0.3 in c:\\users\\leakm\\anaconda3\\envs\\myenv\\lib\\site-packages (from earthengine-api->-r requirements.txt (line 2)) (0.0.4)\n",
      "Requirement already satisfied: httplib2shim in c:\\users\\leakm\\anaconda3\\envs\\myenv\\lib\\site-packages (from earthengine-api->-r requirements.txt (line 2)) (0.0.3)\n",
      "Requirement already satisfied: httplib2<1dev,>=0.9.2 in c:\\users\\leakm\\anaconda3\\envs\\myenv\\lib\\site-packages (from earthengine-api->-r requirements.txt (line 2)) (0.18.1)\n",
      "Requirement already satisfied: six in c:\\users\\leakm\\anaconda3\\envs\\myenv\\lib\\site-packages (from earthengine-api->-r requirements.txt (line 2)) (1.15.0)\n",
      "Requirement already satisfied: future in c:\\users\\leakm\\anaconda3\\envs\\myenv\\lib\\site-packages (from earthengine-api->-r requirements.txt (line 2)) (0.18.2)\n",
      "Requirement already satisfied: google-cloud-storage in c:\\users\\leakm\\anaconda3\\envs\\myenv\\lib\\site-packages (from earthengine-api->-r requirements.txt (line 2)) (1.32.0)\n",
      "Requirement already satisfied: google-auth>=1.4.1 in c:\\users\\leakm\\anaconda3\\envs\\myenv\\lib\\site-packages (from earthengine-api->-r requirements.txt (line 2)) (1.23.0)\n",
      "Requirement already satisfied: h5py<2.11.0,>=2.10.0 in c:\\users\\leakm\\anaconda3\\envs\\myenv\\lib\\site-packages (from tensorflow->-r requirements.txt (line 3)) (2.10.0)\n",
      "Requirement already satisfied: google-pasta>=0.1.8 in c:\\users\\leakm\\anaconda3\\envs\\myenv\\lib\\site-packages (from tensorflow->-r requirements.txt (line 3)) (0.2.0)\n",
      "Requirement already satisfied: protobuf>=3.9.2 in c:\\users\\leakm\\anaconda3\\envs\\myenv\\lib\\site-packages (from tensorflow->-r requirements.txt (line 3)) (3.13.0)\n",
      "Requirement already satisfied: tensorboard<3,>=2.3.0 in c:\\users\\leakm\\anaconda3\\envs\\myenv\\lib\\site-packages (from tensorflow->-r requirements.txt (line 3)) (2.3.0)\n",
      "Requirement already satisfied: wrapt>=1.11.1 in c:\\users\\leakm\\anaconda3\\envs\\myenv\\lib\\site-packages (from tensorflow->-r requirements.txt (line 3)) (1.12.1)\n",
      "Requirement already satisfied: grpcio>=1.8.6 in c:\\users\\leakm\\anaconda3\\envs\\myenv\\lib\\site-packages (from tensorflow->-r requirements.txt (line 3)) (1.33.1)\n",
      "Requirement already satisfied: astunparse==1.6.3 in c:\\users\\leakm\\anaconda3\\envs\\myenv\\lib\\site-packages (from tensorflow->-r requirements.txt (line 3)) (1.6.3)\n",
      "Requirement already satisfied: termcolor>=1.1.0 in c:\\users\\leakm\\anaconda3\\envs\\myenv\\lib\\site-packages (from tensorflow->-r requirements.txt (line 3)) (1.1.0)\n",
      "Requirement already satisfied: wheel>=0.26 in c:\\users\\leakm\\appdata\\roaming\\python\\python37\\site-packages (from tensorflow->-r requirements.txt (line 3)) (0.35.1)\n",
      "Requirement already satisfied: gast==0.3.3 in c:\\users\\leakm\\anaconda3\\envs\\myenv\\lib\\site-packages (from tensorflow->-r requirements.txt (line 3)) (0.3.3)\n",
      "Requirement already satisfied: keras-preprocessing<1.2,>=1.1.1 in c:\\users\\leakm\\anaconda3\\envs\\myenv\\lib\\site-packages (from tensorflow->-r requirements.txt (line 3)) (1.1.2)\n",
      "Requirement already satisfied: absl-py>=0.7.0 in c:\\users\\leakm\\anaconda3\\envs\\myenv\\lib\\site-packages (from tensorflow->-r requirements.txt (line 3)) (0.10.0)\n",
      "Requirement already satisfied: opt-einsum>=2.3.2 in c:\\users\\leakm\\anaconda3\\envs\\myenv\\lib\\site-packages (from tensorflow->-r requirements.txt (line 3)) (3.3.0)\n",
      "Requirement already satisfied: tensorflow-estimator<2.4.0,>=2.3.0 in c:\\users\\leakm\\anaconda3\\envs\\myenv\\lib\\site-packages (from tensorflow->-r requirements.txt (line 3)) (2.3.0)\n",
      "Requirement already satisfied: python-dateutil>=2.1 in c:\\users\\leakm\\appdata\\roaming\\python\\python37\\site-packages (from matplotlib->-r requirements.txt (line 5)) (2.8.1)\n",
      "Requirement already satisfied: pillow>=6.2.0 in c:\\users\\leakm\\anaconda3\\envs\\myenv\\lib\\site-packages (from matplotlib->-r requirements.txt (line 5)) (7.2.0)\n",
      "Requirement already satisfied: certifi>=2020.06.20 in c:\\users\\leakm\\anaconda3\\envs\\myenv\\lib\\site-packages (from matplotlib->-r requirements.txt (line 5)) (2020.11.8)\n",
      "Requirement already satisfied: kiwisolver>=1.0.1 in c:\\users\\leakm\\anaconda3\\envs\\myenv\\lib\\site-packages (from matplotlib->-r requirements.txt (line 5)) (1.2.0)\n",
      "Requirement already satisfied: pyparsing!=2.0.4,!=2.1.2,!=2.1.6,>=2.0.3 in c:\\users\\leakm\\anaconda3\\envs\\myenv\\lib\\site-packages (from matplotlib->-r requirements.txt (line 5)) (2.4.7)\n",
      "Requirement already satisfied: cycler>=0.10 in c:\\users\\leakm\\anaconda3\\envs\\myenv\\lib\\site-packages (from matplotlib->-r requirements.txt (line 5)) (0.10.0)\n",
      "Requirement already satisfied: scikit-learn in c:\\users\\leakm\\anaconda3\\envs\\myenv\\lib\\site-packages (from sklearn->-r requirements.txt (line 8)) (0.23.2)\n",
      "Requirement already satisfied: imbalanced-learn in c:\\users\\leakm\\anaconda3\\envs\\myenv\\lib\\site-packages (from imblearn->-r requirements.txt (line 9)) (0.7.0)\n",
      "Requirement already satisfied: scipy>=1.0 in c:\\users\\leakm\\anaconda3\\envs\\myenv\\lib\\site-packages (from seaborn->-r requirements.txt (line 12)) (1.4.1)\n",
      "Requirement already satisfied: pytz>=2017.2 in c:\\users\\leakm\\anaconda3\\envs\\myenv\\lib\\site-packages (from pandas->-r requirements.txt (line 13)) (2020.4)\n",
      "Requirement already satisfied: tqdm>=4.33.0 in c:\\users\\leakm\\anaconda3\\envs\\myenv\\lib\\site-packages (from swifter->-r requirements.txt (line 14)) (4.50.2)\n",
      "Requirement already satisfied: ipywidgets>=7.0.0cloudpickle>=0.2.2 in c:\\users\\leakm\\anaconda3\\envs\\myenv\\lib\\site-packages (from swifter->-r requirements.txt (line 14)) (7.5.1)\n",
      "Requirement already satisfied: bleach>=3.1.1 in c:\\users\\leakm\\anaconda3\\envs\\myenv\\lib\\site-packages (from swifter->-r requirements.txt (line 14)) (3.2.1)\n",
      "Requirement already satisfied: modin[ray]>=0.8.1.1 in c:\\users\\leakm\\anaconda3\\envs\\myenv\\lib\\site-packages (from swifter->-r requirements.txt (line 14)) (0.8.3)\n",
      "Requirement already satisfied: psutil>=5.6.6 in c:\\users\\leakm\\anaconda3\\envs\\myenv\\lib\\site-packages (from swifter->-r requirements.txt (line 14)) (5.7.3)\n",
      "Requirement already satisfied: parso>0.4.0 in c:\\users\\leakm\\appdata\\roaming\\python\\python37\\site-packages (from swifter->-r requirements.txt (line 14)) (0.7.1)\n",
      "Requirement already satisfied: locket in c:\\users\\leakm\\anaconda3\\envs\\myenv\\lib\\site-packages (from partd>=0.3.10; extra == \"dataframe\"->dask[dataframe]->-r requirements.txt (line 1)) (0.2.0)\n",
      "Requirement already satisfied: google-api-core<2dev,>=1.21.0 in c:\\users\\leakm\\anaconda3\\envs\\myenv\\lib\\site-packages (from google-api-python-client>=1.12.1->earthengine-api->-r requirements.txt (line 2)) (1.23.0)\n",
      "Requirement already satisfied: uritemplate<4dev,>=3.0.0 in c:\\users\\leakm\\anaconda3\\envs\\myenv\\lib\\site-packages (from google-api-python-client>=1.12.1->earthengine-api->-r requirements.txt (line 2)) (3.0.1)\n",
      "Requirement already satisfied: urllib3 in c:\\users\\leakm\\anaconda3\\envs\\myenv\\lib\\site-packages (from httplib2shim->earthengine-api->-r requirements.txt (line 2)) (1.25.11)\n",
      "Requirement already satisfied: google-cloud-core<2.0dev,>=1.4.1 in c:\\users\\leakm\\anaconda3\\envs\\myenv\\lib\\site-packages (from google-cloud-storage->earthengine-api->-r requirements.txt (line 2)) (1.4.3)\n",
      "Requirement already satisfied: google-resumable-media<2.0dev,>=1.0.0 in c:\\users\\leakm\\anaconda3\\envs\\myenv\\lib\\site-packages (from google-cloud-storage->earthengine-api->-r requirements.txt (line 2)) (1.1.0)\n",
      "Requirement already satisfied: requests<3.0.0dev,>=2.18.0 in c:\\users\\leakm\\anaconda3\\envs\\myenv\\lib\\site-packages (from google-cloud-storage->earthengine-api->-r requirements.txt (line 2)) (2.25.0)\n",
      "Requirement already satisfied: setuptools>=40.3.0 in c:\\users\\leakm\\anaconda3\\envs\\myenv\\lib\\site-packages (from google-auth>=1.4.1->earthengine-api->-r requirements.txt (line 2)) (50.3.0.post20201103)\n",
      "Requirement already satisfied: pyasn1-modules>=0.2.1 in c:\\users\\leakm\\anaconda3\\envs\\myenv\\lib\\site-packages (from google-auth>=1.4.1->earthengine-api->-r requirements.txt (line 2)) (0.2.8)\n",
      "Requirement already satisfied: rsa<5,>=3.1.4; python_version >= \"3.5\" in c:\\users\\leakm\\anaconda3\\envs\\myenv\\lib\\site-packages (from google-auth>=1.4.1->earthengine-api->-r requirements.txt (line 2)) (4.6)\n",
      "Requirement already satisfied: cachetools<5.0,>=2.0.0 in c:\\users\\leakm\\anaconda3\\envs\\myenv\\lib\\site-packages (from google-auth>=1.4.1->earthengine-api->-r requirements.txt (line 2)) (4.1.1)\n",
      "Requirement already satisfied: google-auth-oauthlib<0.5,>=0.4.1 in c:\\users\\leakm\\anaconda3\\envs\\myenv\\lib\\site-packages (from tensorboard<3,>=2.3.0->tensorflow->-r requirements.txt (line 3)) (0.4.1)\n",
      "Requirement already satisfied: werkzeug>=0.11.15 in c:\\users\\leakm\\anaconda3\\envs\\myenv\\lib\\site-packages (from tensorboard<3,>=2.3.0->tensorflow->-r requirements.txt (line 3)) (1.0.1)\n",
      "Requirement already satisfied: tensorboard-plugin-wit>=1.6.0 in c:\\users\\leakm\\anaconda3\\envs\\myenv\\lib\\site-packages (from tensorboard<3,>=2.3.0->tensorflow->-r requirements.txt (line 3)) (1.7.0)\n",
      "Requirement already satisfied: markdown>=2.6.8 in c:\\users\\leakm\\anaconda3\\envs\\myenv\\lib\\site-packages (from tensorboard<3,>=2.3.0->tensorflow->-r requirements.txt (line 3)) (3.2.2)\n",
      "Requirement already satisfied: threadpoolctl>=2.0.0 in c:\\users\\leakm\\anaconda3\\envs\\myenv\\lib\\site-packages (from scikit-learn->sklearn->-r requirements.txt (line 8)) (2.1.0)\n",
      "Requirement already satisfied: ipython>=4.0.0; python_version >= \"3.3\" in c:\\users\\leakm\\appdata\\roaming\\python\\python37\\site-packages (from ipywidgets>=7.0.0cloudpickle>=0.2.2->swifter->-r requirements.txt (line 14)) (7.17.0)\n",
      "Requirement already satisfied: nbformat>=4.2.0 in c:\\users\\leakm\\anaconda3\\envs\\myenv\\lib\\site-packages (from ipywidgets>=7.0.0cloudpickle>=0.2.2->swifter->-r requirements.txt (line 14)) (5.0.8)\n",
      "Requirement already satisfied: traitlets>=4.3.1 in c:\\users\\leakm\\appdata\\roaming\\python\\python37\\site-packages (from ipywidgets>=7.0.0cloudpickle>=0.2.2->swifter->-r requirements.txt (line 14)) (4.3.3)\n",
      "Requirement already satisfied: ipykernel>=4.5.1 in c:\\users\\leakm\\appdata\\roaming\\python\\python37\\site-packages (from ipywidgets>=7.0.0cloudpickle>=0.2.2->swifter->-r requirements.txt (line 14)) (5.3.4)\n",
      "Requirement already satisfied: widgetsnbextension~=3.5.0 in c:\\users\\leakm\\anaconda3\\envs\\myenv\\lib\\site-packages (from ipywidgets>=7.0.0cloudpickle>=0.2.2->swifter->-r requirements.txt (line 14)) (3.5.1)\n",
      "Requirement already satisfied: packaging in c:\\users\\leakm\\anaconda3\\envs\\myenv\\lib\\site-packages (from bleach>=3.1.1->swifter->-r requirements.txt (line 14)) (20.4)\n",
      "Requirement already satisfied: webencodings in c:\\users\\leakm\\anaconda3\\envs\\myenv\\lib\\site-packages (from bleach>=3.1.1->swifter->-r requirements.txt (line 14)) (0.5.1)\n",
      "Requirement already satisfied: pyarrow==1.0; extra == \"ray\" in c:\\users\\leakm\\anaconda3\\envs\\myenv\\lib\\site-packages (from modin[ray]>=0.8.1.1->swifter->-r requirements.txt (line 14)) (1.0.0)\n",
      "Requirement already satisfied: ray>=1.0.0; extra == \"ray\" in c:\\users\\leakm\\anaconda3\\envs\\myenv\\lib\\site-packages (from modin[ray]>=0.8.1.1->swifter->-r requirements.txt (line 14)) (1.1.0)\n",
      "Requirement already satisfied: googleapis-common-protos<2.0dev,>=1.6.0 in c:\\users\\leakm\\anaconda3\\envs\\myenv\\lib\\site-packages (from google-api-core<2dev,>=1.21.0->google-api-python-client>=1.12.1->earthengine-api->-r requirements.txt (line 2)) (1.52.0)\n",
      "Requirement already satisfied: google-crc32c<2.0dev,>=1.0; python_version >= \"3.5\" in c:\\users\\leakm\\anaconda3\\envs\\myenv\\lib\\site-packages (from google-resumable-media<2.0dev,>=1.0.0->google-cloud-storage->earthengine-api->-r requirements.txt (line 2)) (1.0.0)\n",
      "Requirement already satisfied: idna<3,>=2.5 in c:\\users\\leakm\\anaconda3\\envs\\myenv\\lib\\site-packages (from requests<3.0.0dev,>=2.18.0->google-cloud-storage->earthengine-api->-r requirements.txt (line 2)) (2.10)\n",
      "Requirement already satisfied: chardet<4,>=3.0.2 in c:\\users\\leakm\\anaconda3\\envs\\myenv\\lib\\site-packages (from requests<3.0.0dev,>=2.18.0->google-cloud-storage->earthengine-api->-r requirements.txt (line 2)) (3.0.4)\n",
      "Requirement already satisfied: pyasn1<0.5.0,>=0.4.6 in c:\\users\\leakm\\anaconda3\\envs\\myenv\\lib\\site-packages (from pyasn1-modules>=0.2.1->google-auth>=1.4.1->earthengine-api->-r requirements.txt (line 2)) (0.4.8)\n",
      "Requirement already satisfied: requests-oauthlib>=0.7.0 in c:\\users\\leakm\\anaconda3\\envs\\myenv\\lib\\site-packages (from google-auth-oauthlib<0.5,>=0.4.1->tensorboard<3,>=2.3.0->tensorflow->-r requirements.txt (line 3)) (1.3.0)\n",
      "Requirement already satisfied: importlib-metadata; python_version < \"3.8\" in c:\\users\\leakm\\anaconda3\\envs\\myenv\\lib\\site-packages (from markdown>=2.6.8->tensorboard<3,>=2.3.0->tensorflow->-r requirements.txt (line 3)) (2.0.0)\n",
      "Requirement already satisfied: decorator in c:\\users\\leakm\\appdata\\roaming\\python\\python37\\site-packages (from ipython>=4.0.0; python_version >= \"3.3\"->ipywidgets>=7.0.0cloudpickle>=0.2.2->swifter->-r requirements.txt (line 14)) (4.4.2)\n",
      "Requirement already satisfied: pickleshare in c:\\users\\leakm\\appdata\\roaming\\python\\python37\\site-packages (from ipython>=4.0.0; python_version >= \"3.3\"->ipywidgets>=7.0.0cloudpickle>=0.2.2->swifter->-r requirements.txt (line 14)) (0.7.5)\n",
      "Requirement already satisfied: colorama; sys_platform == \"win32\" in c:\\users\\leakm\\appdata\\roaming\\python\\python37\\site-packages (from ipython>=4.0.0; python_version >= \"3.3\"->ipywidgets>=7.0.0cloudpickle>=0.2.2->swifter->-r requirements.txt (line 14)) (0.4.3)\n",
      "Requirement already satisfied: backcall in c:\\users\\leakm\\appdata\\roaming\\python\\python37\\site-packages (from ipython>=4.0.0; python_version >= \"3.3\"->ipywidgets>=7.0.0cloudpickle>=0.2.2->swifter->-r requirements.txt (line 14)) (0.2.0)\n",
      "Requirement already satisfied: prompt-toolkit!=3.0.0,!=3.0.1,<3.1.0,>=2.0.0 in c:\\users\\leakm\\appdata\\roaming\\python\\python37\\site-packages (from ipython>=4.0.0; python_version >= \"3.3\"->ipywidgets>=7.0.0cloudpickle>=0.2.2->swifter->-r requirements.txt (line 14)) (3.0.6)\n",
      "Requirement already satisfied: pygments in c:\\users\\leakm\\appdata\\roaming\\python\\python37\\site-packages (from ipython>=4.0.0; python_version >= \"3.3\"->ipywidgets>=7.0.0cloudpickle>=0.2.2->swifter->-r requirements.txt (line 14)) (2.6.1)\n",
      "Requirement already satisfied: jedi>=0.10 in c:\\users\\leakm\\appdata\\roaming\\python\\python37\\site-packages (from ipython>=4.0.0; python_version >= \"3.3\"->ipywidgets>=7.0.0cloudpickle>=0.2.2->swifter->-r requirements.txt (line 14)) (0.17.2)\n",
      "Requirement already satisfied: jsonschema!=2.5.0,>=2.4 in c:\\users\\leakm\\anaconda3\\envs\\myenv\\lib\\site-packages (from nbformat>=4.2.0->ipywidgets>=7.0.0cloudpickle>=0.2.2->swifter->-r requirements.txt (line 14)) (3.2.0)\n",
      "Requirement already satisfied: jupyter-core in c:\\users\\leakm\\appdata\\roaming\\python\\python37\\site-packages (from nbformat>=4.2.0->ipywidgets>=7.0.0cloudpickle>=0.2.2->swifter->-r requirements.txt (line 14)) (4.6.3)\n",
      "Requirement already satisfied: ipython-genutils in c:\\users\\leakm\\appdata\\roaming\\python\\python37\\site-packages (from nbformat>=4.2.0->ipywidgets>=7.0.0cloudpickle>=0.2.2->swifter->-r requirements.txt (line 14)) (0.2.0)\n",
      "Requirement already satisfied: tornado>=4.2 in c:\\users\\leakm\\appdata\\roaming\\python\\python37\\site-packages (from ipykernel>=4.5.1->ipywidgets>=7.0.0cloudpickle>=0.2.2->swifter->-r requirements.txt (line 14)) (6.0.4)\n",
      "Requirement already satisfied: jupyter-client in c:\\users\\leakm\\anaconda3\\envs\\myenv\\lib\\site-packages (from ipykernel>=4.5.1->ipywidgets>=7.0.0cloudpickle>=0.2.2->swifter->-r requirements.txt (line 14)) (6.1.7)\n",
      "Requirement already satisfied: notebook>=4.4.1 in c:\\users\\leakm\\anaconda3\\envs\\myenv\\lib\\site-packages (from widgetsnbextension~=3.5.0->ipywidgets>=7.0.0cloudpickle>=0.2.2->swifter->-r requirements.txt (line 14)) (6.1.4)\n",
      "Requirement already satisfied: msgpack<2.0.0,>=1.0.0 in c:\\users\\leakm\\anaconda3\\envs\\myenv\\lib\\site-packages (from ray>=1.0.0; extra == \"ray\"->modin[ray]>=0.8.1.1->swifter->-r requirements.txt (line 14)) (1.0.0)\n",
      "Requirement already satisfied: aioredis in c:\\users\\leakm\\anaconda3\\envs\\myenv\\lib\\site-packages (from ray>=1.0.0; extra == \"ray\"->modin[ray]>=0.8.1.1->swifter->-r requirements.txt (line 14)) (1.3.1)\n",
      "Requirement already satisfied: aiohttp in c:\\users\\leakm\\anaconda3\\envs\\myenv\\lib\\site-packages (from ray>=1.0.0; extra == \"ray\"->modin[ray]>=0.8.1.1->swifter->-r requirements.txt (line 14)) (3.7.2)\n",
      "Requirement already satisfied: opencensus in c:\\users\\leakm\\anaconda3\\envs\\myenv\\lib\\site-packages (from ray>=1.0.0; extra == \"ray\"->modin[ray]>=0.8.1.1->swifter->-r requirements.txt (line 14)) (0.7.12)\n",
      "Requirement already satisfied: py-spy>=0.2.0 in c:\\users\\leakm\\anaconda3\\envs\\myenv\\lib\\site-packages (from ray>=1.0.0; extra == \"ray\"->modin[ray]>=0.8.1.1->swifter->-r requirements.txt (line 14)) (0.3.4)\n",
      "Requirement already satisfied: gpustat in c:\\users\\leakm\\anaconda3\\envs\\myenv\\lib\\site-packages (from ray>=1.0.0; extra == \"ray\"->modin[ray]>=0.8.1.1->swifter->-r requirements.txt (line 14)) (0.6.0)\n",
      "Requirement already satisfied: click>=7.0 in c:\\users\\leakm\\anaconda3\\envs\\myenv\\lib\\site-packages (from ray>=1.0.0; extra == \"ray\"->modin[ray]>=0.8.1.1->swifter->-r requirements.txt (line 14)) (7.1.2)\n",
      "Requirement already satisfied: filelock in c:\\users\\leakm\\anaconda3\\envs\\myenv\\lib\\site-packages (from ray>=1.0.0; extra == \"ray\"->modin[ray]>=0.8.1.1->swifter->-r requirements.txt (line 14)) (3.0.12)\n",
      "Requirement already satisfied: aiohttp-cors in c:\\users\\leakm\\anaconda3\\envs\\myenv\\lib\\site-packages (from ray>=1.0.0; extra == \"ray\"->modin[ray]>=0.8.1.1->swifter->-r requirements.txt (line 14)) (0.7.0)\n",
      "Requirement already satisfied: prometheus-client>=0.7.1 in c:\\users\\leakm\\anaconda3\\envs\\myenv\\lib\\site-packages (from ray>=1.0.0; extra == \"ray\"->modin[ray]>=0.8.1.1->swifter->-r requirements.txt (line 14)) (0.8.0)\n",
      "Requirement already satisfied: redis>=3.5.0 in c:\\users\\leakm\\anaconda3\\envs\\myenv\\lib\\site-packages (from ray>=1.0.0; extra == \"ray\"->modin[ray]>=0.8.1.1->swifter->-r requirements.txt (line 14)) (3.5.3)\n",
      "Requirement already satisfied: colorful in c:\\users\\leakm\\anaconda3\\envs\\myenv\\lib\\site-packages (from ray>=1.0.0; extra == \"ray\"->modin[ray]>=0.8.1.1->swifter->-r requirements.txt (line 14)) (0.5.4)\n",
      "Requirement already satisfied: cffi>=1.0.0 in c:\\users\\leakm\\anaconda3\\envs\\myenv\\lib\\site-packages (from google-crc32c<2.0dev,>=1.0; python_version >= \"3.5\"->google-resumable-media<2.0dev,>=1.0.0->google-cloud-storage->earthengine-api->-r requirements.txt (line 2)) (1.14.3)\n",
      "Requirement already satisfied: oauthlib>=3.0.0 in c:\\users\\leakm\\anaconda3\\envs\\myenv\\lib\\site-packages (from requests-oauthlib>=0.7.0->google-auth-oauthlib<0.5,>=0.4.1->tensorboard<3,>=2.3.0->tensorflow->-r requirements.txt (line 3)) (3.1.0)\n",
      "Requirement already satisfied: zipp>=0.5 in c:\\users\\leakm\\anaconda3\\envs\\myenv\\lib\\site-packages (from importlib-metadata; python_version < \"3.8\"->markdown>=2.6.8->tensorboard<3,>=2.3.0->tensorflow->-r requirements.txt (line 3)) (3.4.0)\n",
      "Requirement already satisfied: wcwidth in c:\\users\\leakm\\appdata\\roaming\\python\\python37\\site-packages (from prompt-toolkit!=3.0.0,!=3.0.1,<3.1.0,>=2.0.0->ipython>=4.0.0; python_version >= \"3.3\"->ipywidgets>=7.0.0cloudpickle>=0.2.2->swifter->-r requirements.txt (line 14)) (0.2.5)\n",
      "Requirement already satisfied: attrs>=17.4.0 in c:\\users\\leakm\\anaconda3\\envs\\myenv\\lib\\site-packages (from jsonschema!=2.5.0,>=2.4->nbformat>=4.2.0->ipywidgets>=7.0.0cloudpickle>=0.2.2->swifter->-r requirements.txt (line 14)) (20.2.0)\n",
      "Requirement already satisfied: pyrsistent>=0.14.0 in c:\\users\\leakm\\anaconda3\\envs\\myenv\\lib\\site-packages (from jsonschema!=2.5.0,>=2.4->nbformat>=4.2.0->ipywidgets>=7.0.0cloudpickle>=0.2.2->swifter->-r requirements.txt (line 14)) (0.17.3)\n",
      "Requirement already satisfied: pywin32>=1.0; sys_platform == \"win32\" in c:\\users\\leakm\\appdata\\roaming\\python\\python37\\site-packages (from jupyter-core->nbformat>=4.2.0->ipywidgets>=7.0.0cloudpickle>=0.2.2->swifter->-r requirements.txt (line 14)) (228)\n",
      "Requirement already satisfied: pyzmq>=13 in c:\\users\\leakm\\appdata\\roaming\\python\\python37\\site-packages (from jupyter-client->ipykernel>=4.5.1->ipywidgets>=7.0.0cloudpickle>=0.2.2->swifter->-r requirements.txt (line 14)) (19.0.2)\n",
      "Requirement already satisfied: nbconvert in c:\\users\\leakm\\anaconda3\\envs\\myenv\\lib\\site-packages (from notebook>=4.4.1->widgetsnbextension~=3.5.0->ipywidgets>=7.0.0cloudpickle>=0.2.2->swifter->-r requirements.txt (line 14)) (6.0.7)\n",
      "Requirement already satisfied: Send2Trash in c:\\users\\leakm\\anaconda3\\envs\\myenv\\lib\\site-packages (from notebook>=4.4.1->widgetsnbextension~=3.5.0->ipywidgets>=7.0.0cloudpickle>=0.2.2->swifter->-r requirements.txt (line 14)) (1.5.0)\n",
      "Requirement already satisfied: jinja2 in c:\\users\\leakm\\anaconda3\\envs\\myenv\\lib\\site-packages (from notebook>=4.4.1->widgetsnbextension~=3.5.0->ipywidgets>=7.0.0cloudpickle>=0.2.2->swifter->-r requirements.txt (line 14)) (2.11.2)\n",
      "Requirement already satisfied: terminado>=0.8.3 in c:\\users\\leakm\\anaconda3\\envs\\myenv\\lib\\site-packages (from notebook>=4.4.1->widgetsnbextension~=3.5.0->ipywidgets>=7.0.0cloudpickle>=0.2.2->swifter->-r requirements.txt (line 14)) (0.9.1)\n",
      "Requirement already satisfied: argon2-cffi in c:\\users\\leakm\\anaconda3\\envs\\myenv\\lib\\site-packages (from notebook>=4.4.1->widgetsnbextension~=3.5.0->ipywidgets>=7.0.0cloudpickle>=0.2.2->swifter->-r requirements.txt (line 14)) (20.1.0)\n",
      "Requirement already satisfied: hiredis in c:\\users\\leakm\\anaconda3\\envs\\myenv\\lib\\site-packages (from aioredis->ray>=1.0.0; extra == \"ray\"->modin[ray]>=0.8.1.1->swifter->-r requirements.txt (line 14)) (1.1.0)\n",
      "Requirement already satisfied: async-timeout in c:\\users\\leakm\\anaconda3\\envs\\myenv\\lib\\site-packages (from aioredis->ray>=1.0.0; extra == \"ray\"->modin[ray]>=0.8.1.1->swifter->-r requirements.txt (line 14)) (3.0.1)\n",
      "Requirement already satisfied: multidict<7.0,>=4.5 in c:\\users\\leakm\\anaconda3\\envs\\myenv\\lib\\site-packages (from aiohttp->ray>=1.0.0; extra == \"ray\"->modin[ray]>=0.8.1.1->swifter->-r requirements.txt (line 14)) (4.7.5)\n",
      "Requirement already satisfied: yarl<2.0,>=1.0 in c:\\users\\leakm\\anaconda3\\envs\\myenv\\lib\\site-packages (from aiohttp->ray>=1.0.0; extra == \"ray\"->modin[ray]>=0.8.1.1->swifter->-r requirements.txt (line 14)) (1.6.3)\n",
      "Requirement already satisfied: typing-extensions>=3.6.5 in c:\\users\\leakm\\anaconda3\\envs\\myenv\\lib\\site-packages (from aiohttp->ray>=1.0.0; extra == \"ray\"->modin[ray]>=0.8.1.1->swifter->-r requirements.txt (line 14)) (3.7.4.3)\n",
      "Requirement already satisfied: opencensus-context==0.1.2 in c:\\users\\leakm\\anaconda3\\envs\\myenv\\lib\\site-packages (from opencensus->ray>=1.0.0; extra == \"ray\"->modin[ray]>=0.8.1.1->swifter->-r requirements.txt (line 14)) (0.1.2)\n",
      "Requirement already satisfied: nvidia-ml-py3>=7.352.0 in c:\\users\\leakm\\anaconda3\\envs\\myenv\\lib\\site-packages (from gpustat->ray>=1.0.0; extra == \"ray\"->modin[ray]>=0.8.1.1->swifter->-r requirements.txt (line 14)) (7.352.0)\n",
      "Requirement already satisfied: blessings>=1.6 in c:\\users\\leakm\\anaconda3\\envs\\myenv\\lib\\site-packages (from gpustat->ray>=1.0.0; extra == \"ray\"->modin[ray]>=0.8.1.1->swifter->-r requirements.txt (line 14)) (1.7)\n",
      "Requirement already satisfied: pycparser in c:\\users\\leakm\\anaconda3\\envs\\myenv\\lib\\site-packages (from cffi>=1.0.0->google-crc32c<2.0dev,>=1.0; python_version >= \"3.5\"->google-resumable-media<2.0dev,>=1.0.0->google-cloud-storage->earthengine-api->-r requirements.txt (line 2)) (2.20)\n",
      "Requirement already satisfied: jupyterlab-pygments in c:\\users\\leakm\\anaconda3\\envs\\myenv\\lib\\site-packages (from nbconvert->notebook>=4.4.1->widgetsnbextension~=3.5.0->ipywidgets>=7.0.0cloudpickle>=0.2.2->swifter->-r requirements.txt (line 14)) (0.1.2)\n",
      "Requirement already satisfied: mistune<2,>=0.8.1 in c:\\users\\leakm\\anaconda3\\envs\\myenv\\lib\\site-packages (from nbconvert->notebook>=4.4.1->widgetsnbextension~=3.5.0->ipywidgets>=7.0.0cloudpickle>=0.2.2->swifter->-r requirements.txt (line 14)) (0.8.4)\n",
      "Requirement already satisfied: testpath in c:\\users\\leakm\\anaconda3\\envs\\myenv\\lib\\site-packages (from nbconvert->notebook>=4.4.1->widgetsnbextension~=3.5.0->ipywidgets>=7.0.0cloudpickle>=0.2.2->swifter->-r requirements.txt (line 14)) (0.4.4)\n",
      "Requirement already satisfied: pandocfilters>=1.4.1 in c:\\users\\leakm\\anaconda3\\envs\\myenv\\lib\\site-packages (from nbconvert->notebook>=4.4.1->widgetsnbextension~=3.5.0->ipywidgets>=7.0.0cloudpickle>=0.2.2->swifter->-r requirements.txt (line 14)) (1.4.2)\n",
      "Requirement already satisfied: defusedxml in c:\\users\\leakm\\anaconda3\\envs\\myenv\\lib\\site-packages (from nbconvert->notebook>=4.4.1->widgetsnbextension~=3.5.0->ipywidgets>=7.0.0cloudpickle>=0.2.2->swifter->-r requirements.txt (line 14)) (0.6.0)\n",
      "Requirement already satisfied: nbclient<0.6.0,>=0.5.0 in c:\\users\\leakm\\anaconda3\\envs\\myenv\\lib\\site-packages (from nbconvert->notebook>=4.4.1->widgetsnbextension~=3.5.0->ipywidgets>=7.0.0cloudpickle>=0.2.2->swifter->-r requirements.txt (line 14)) (0.5.1)\n",
      "Requirement already satisfied: entrypoints>=0.2.2 in c:\\users\\leakm\\anaconda3\\envs\\myenv\\lib\\site-packages (from nbconvert->notebook>=4.4.1->widgetsnbextension~=3.5.0->ipywidgets>=7.0.0cloudpickle>=0.2.2->swifter->-r requirements.txt (line 14)) (0.3)\n",
      "Requirement already satisfied: MarkupSafe>=0.23 in c:\\users\\leakm\\anaconda3\\envs\\myenv\\lib\\site-packages (from jinja2->notebook>=4.4.1->widgetsnbextension~=3.5.0->ipywidgets>=7.0.0cloudpickle>=0.2.2->swifter->-r requirements.txt (line 14)) (1.1.1)\n",
      "Requirement already satisfied: pywinpty>=0.5 in c:\\users\\leakm\\anaconda3\\envs\\myenv\\lib\\site-packages (from terminado>=0.8.3->notebook>=4.4.1->widgetsnbextension~=3.5.0->ipywidgets>=7.0.0cloudpickle>=0.2.2->swifter->-r requirements.txt (line 14)) (0.5.7)\n",
      "Requirement already satisfied: nest-asyncio in c:\\users\\leakm\\anaconda3\\envs\\myenv\\lib\\site-packages (from nbclient<0.6.0,>=0.5.0->nbconvert->notebook>=4.4.1->widgetsnbextension~=3.5.0->ipywidgets>=7.0.0cloudpickle>=0.2.2->swifter->-r requirements.txt (line 14)) (1.4.1)\n",
      "Requirement already satisfied: async-generator in c:\\users\\leakm\\anaconda3\\envs\\myenv\\lib\\site-packages (from nbclient<0.6.0,>=0.5.0->nbconvert->notebook>=4.4.1->widgetsnbextension~=3.5.0->ipywidgets>=7.0.0cloudpickle>=0.2.2->swifter->-r requirements.txt (line 14)) (1.10)\n",
      "Installing collected packages: osgeo, umap\n",
      "Successfully installed osgeo-0.0.0 umap-0.1.1\n"
     ]
    }
   ],
   "source": [
    "# Change the version of pip if needed\n",
    "!pip install -r requirements.txt"
   ]
  },
  {
   "cell_type": "code",
   "execution_count": null,
   "metadata": {},
   "outputs": [],
   "source": [
    "from utils import create_folders\n",
    "import tensorflow as tf\n",
    "from dataset_construction import TFDatasetConstruction\n",
    "from dataset_loader import TFDatasetProcessing, NPDatasetProcessing, undersample\n",
    "from models import ModelTrainingAndEvaluation\n",
    "from joblib import load\n",
    "from inference import Inference, download_kml\n",
    "from utils import predict_pipes, predict_pipes_from_csv, clean_predictions, color_pipes, get_statistics"
   ]
  },
  {
   "cell_type": "markdown",
   "metadata": {},
   "source": [
    "### Import, authenticate and initialize the Earth Engine library.  \n",
    "If you have a gmail account and already have access to Earth Engine, do so with yours, if not, you can use this one. It was created for the purpose of this project:  \n",
    "Gmail adress : `mounierseb93@gmail.com`    \n",
    "Code : `mounse$15`"
   ]
  },
  {
   "cell_type": "code",
   "execution_count": null,
   "metadata": {},
   "outputs": [],
   "source": [
    "import ee\n",
    "ee.Authenticate()\n",
    "ee.Initialize()"
   ]
  },
  {
   "cell_type": "markdown",
   "metadata": {},
   "source": [
    "### Create all folders you will need\n",
    "After running the following, your directory shoud be as following :\n",
    "Check if the folders are in your directory.\n",
    "- **Main folder**\n",
    "    * models\n",
    "    * results\n",
    "    * data\n",
    "        * train\n",
    "        * eval\n",
    "        * predictions\n",
    "            * colored_pipes\n",
    "            * kml"
   ]
  },
  {
   "cell_type": "code",
   "execution_count": null,
   "metadata": {},
   "outputs": [],
   "source": [
    "create_folders()"
   ]
  },
  {
   "cell_type": "markdown",
   "metadata": {},
   "source": [
    "### Constants"
   ]
  },
  {
   "cell_type": "code",
   "execution_count": null,
   "metadata": {},
   "outputs": [],
   "source": [
    "LANDSAT  = ['B1', 'B2', 'B3', 'B4', 'B5', 'B6', 'B7', 'B10', 'B11']\n",
    "SENTINEL = ['VV','VH','VV_1','VH_1']\n",
    "BANDS    = LANDSAT + SENTINEL\n",
    "RESPONSE = 'landcover'\n",
    "FEATURES = BANDS+[RESPONSE]\n",
    "\n",
    "KERNEL_SIZE   = 128\n",
    "KERNEL_SHAPE  = [KERNEL_SIZE, KERNEL_SIZE]\n",
    "COLUMNS       = [tf.io.FixedLenFeature(shape=KERNEL_SHAPE, dtype=tf.float32) for k in FEATURES]\n",
    "FEATURES_DICT = dict(zip(FEATURES, COLUMNS))\n",
    "NUM_FEATURES  = len(BANDS)\n",
    "NUM_CLASSES   = 4 \n",
    "\n",
    "LABEL_NAMES  = [0,1,2,3]\n",
    "TARGET_NAMES = ['field','forest','urbain','water']\n",
    "\n",
    "#Do not change the following\n",
    "point  = None\n",
    "radius = None\n",
    "rectangle = None\n",
    "network_name = None"
   ]
  },
  {
   "cell_type": "markdown",
   "metadata": {},
   "source": [
    "# II. Training \n",
    "### <font color=red> If you already have a pretrained model <font>, skip this part and go to [inference](#III.-Inference)"
   ]
  },
  {
   "cell_type": "markdown",
   "metadata": {},
   "source": [
    "### Variables"
   ]
  },
  {
   "cell_type": "code",
   "execution_count": null,
   "metadata": {},
   "outputs": [],
   "source": [
    "#-------------Specify preprocessing parameters-----------#\n",
    "\n",
    "TRAIN_SIZE = 5000 #@param {type:\"integer\"} #maximum : 5000\n",
    "EVAL_SIZE  = 3000 #@param {type:\"integer\"} #maximum : 3000\n",
    "\n",
    "# Whether to undersample (ie take the same number of pixels from each class)\n",
    "UNDERSAMPLING = True #@param {type:'boolean'}\n",
    "\n",
    "# The number of pixels taken from each class if undersampling=True, if None, set to the number of the rearest class\n",
    "SAMPLES_PER_CLASS = None #@param (None or integer)\n",
    "\n",
    "# Whether to add misclassified pixels from previous model \n",
    "# do not use this if you haven't learnt how to create them. Cf to my tutorial \"eeTutoriel.ipynb\"\n",
    "MISCLASSIFIED_PIXELS = False #@param {type:'boolean'}\n",
    "\n",
    "# The name of the Asset of misclassified pixels, if misclassified_pixels=True\n",
    "ASSETID = \"users/leakm/misclassified_pixels\"\n",
    "\n",
    "#-------------Specify model parameters--------------#\n",
    "\n",
    "# Careful, the name of your model should contain the model type such as : knn_something-something, or something-rf_something\n",
    "MODEL_NAME   = 'rf' #@param [\"knn\", \"svm\", \"rf\",\"pca_rf\",\"umap_rf\"] \n",
    "\n",
    "FINETUNE = False #@param {type: 'boolean'}"
   ]
  },
  {
   "cell_type": "markdown",
   "metadata": {},
   "source": [
    "# II. 1. Dataset Construction  \n",
    "If you don't have access to the training dataset (.tfrecord.gz in folders 'train' and 'eval'), download it from the Google Drive in this address and password (and make sur to add it the right folder with the same name as in the drive).   \n",
    "    Gmail adress : `mounierseb93@gmail.com`  \n",
    "    Code : `mounse$15`  \n",
    "      \n",
    "If it's not there for some reason, or if you want to construct your own, run the following :\n",
    "    \n",
    "*Every time your run a code, if you receive a message like this : \"Please download file from Drive from folder ...\", go to the Google Drive and to the folder mentioned, and download the file in the same folder on your computer.*"
   ]
  },
  {
   "cell_type": "code",
   "execution_count": null,
   "metadata": {},
   "outputs": [],
   "source": [
    "# Export training and evaluation tfrecords\n",
    "tfdataconstructor = TFDatasetConstruction(LANDSAT,SENTINEL,RESPONSE,KERNEL_SIZE)\n",
    "tfdataconstructor.dataset_construction(\"2017-01-01\",\"2017-12-31\") #the date should not change since the label dataset is from 2017"
   ]
  },
  {
   "cell_type": "markdown",
   "metadata": {},
   "source": [
    "# II. 2. Dataset Loading and Processing"
   ]
  },
  {
   "cell_type": "code",
   "execution_count": null,
   "metadata": {},
   "outputs": [],
   "source": [
    "# Load and process training and evaluation tf.Datasets\n",
    "tfdataloader = TFDatasetProcessing(FEATURES_DICT,FEATURES,BANDS,NUM_FEATURES,batch_size=BATCH_SIZE)\n",
    "training     = tfdataloader.get_training_dataset()\n",
    "evaluation   = tfdataloader.get_eval_dataset()\n",
    "NUM_FEATURES = tfdataloader.num_features\n",
    "\n",
    "# Convert tf.Datasets to numpy arrays\n",
    "npdataloader = NPDatasetProcessing(NUM_FEATURES,NUM_CLASSES)\n",
    "train        = npdataloader.tf_to_numpy(training,TRAIN_SIZE)\n",
    "eval         = npdataloader.tf_to_numpy(evaluation,EVAL_SIZE)\n",
    "del training,evaluation\n",
    "\n",
    "# Undersampling\n",
    "if UNDERSAMPLING :\n",
    "    train['features'],train['labels'] = undersample(train['features'],train['labels'],SAMPLES_PER_CLASS)\n",
    "    eval['features'] ,eval['labels']  = undersample(eval['features'],eval['labels'],SAMPLES_PER_CLASS)\n",
    "\n",
    "# Adding samples to the dataset\n",
    "if MISCLASSIFIED_PIXELS :\n",
    "    train = npdataloader.adding_more_pixels(train,ASSETID,tfdataconstructor,tfdataloader)"
   ]
  },
  {
   "cell_type": "markdown",
   "metadata": {},
   "source": [
    "# II. 3. Model Training and Evaluation\n",
    "You can :  \n",
    "## a. Train your model and evaluate it"
   ]
  },
  {
   "cell_type": "code",
   "execution_count": null,
   "metadata": {},
   "outputs": [],
   "source": [
    "# 1) Model fitting, if you want to (re)train your model\n",
    "model = ModelTrainingAndEvaluation(MODEL_NAME,train,eval,FINETUNE)\n",
    "if 'pca' in MODEL_NAME :\n",
    "    model.pca(NUM_CLASSES)\n",
    "elif 'umap' in MODEL_NAME :\n",
    "    model.umap(NUM_CLASSES)\n",
    "elif 'knn' in MODEL_NAME :\n",
    "    model.knn() #check the parameters you can pass as arguments\n",
    "elif 'svm' in MODEL_NAME :\n",
    "    model.svm() #check the parameters you can pass as arguments\n",
    "elif 'rf' in MODEL_NAME :\n",
    "    model.rf() #check the parameters you can pass as arguments\n",
    "\n",
    "# Model evaluation\n",
    "%matplotlib inline\n",
    "model.eval_model(LABEL_NAMES,TARGET_NAMES)"
   ]
  },
  {
   "cell_type": "markdown",
   "metadata": {},
   "source": [
    "## b. Evaluate a saved model"
   ]
  },
  {
   "cell_type": "code",
   "execution_count": null,
   "metadata": {},
   "outputs": [],
   "source": [
    "#the name of the model (without the extension), it should be the same as the one in your folder \"models\"\n",
    "MODEL_NAME = 'rf' #@param "
   ]
  },
  {
   "cell_type": "code",
   "execution_count": null,
   "metadata": {},
   "outputs": [],
   "source": [
    "model = ModelTrainingAndEvaluation(MODEL_NAME,train,eval,False)\n",
    "model.model = load('models/'+MODEL_NAME+'.joblib')\n",
    "model.eval_model(LABEL_NAMES,TARGET_NAMES)"
   ]
  },
  {
   "cell_type": "markdown",
   "metadata": {},
   "source": [
    "# III. Inference\n",
    "\n",
    "This is how inference works, you specify the input, the pretrained model will process it and will produce different outputs.\n",
    "    \n",
    "<img src=\"tuto_images/8.PNG\" width=\"800\">  "
   ]
  },
  {
   "cell_type": "markdown",
   "metadata": {},
   "source": [
    "### Variables"
   ]
  },
  {
   "cell_type": "code",
   "execution_count": null,
   "metadata": {},
   "outputs": [],
   "source": [
    "MODEL_NAME = 'rf' #@param #the name of the model (without the extension), it should be the same as the one in your folder \"models\"\n",
    "\n",
    "# Specify inference parameters\n",
    "\n",
    "# The image that will be created is the mean of an Image Collection of sattelite images. \n",
    "# You should specify the date range of this collection :\n",
    "start_date = \"2020-01-01\"   \n",
    "end_date   = \"2020-12-31\"\n",
    "\n",
    "image_name = 'test' #Name your image as you want\n",
    "\n",
    "#Whether to perform Conditional Random Fields on your predictions\n",
    "PERFORM_CRF = False #@param\n",
    "\n",
    "if PERFORM_CRF == True :\n",
    "    !pip install --upgrade cython\n",
    "    !pip install --upgrade pydensecrf\n",
    "    \n",
    "#If you are on windows and have trouble installing pydensecrf : \n",
    "#if you use anaconda, execute the following : conda install -c conda-forge pydensecrf').\n",
    "#if not, or you have more fails, check https://github.com/lucasb-eyer/pydensecrf"
   ]
  },
  {
   "cell_type": "markdown",
   "metadata": {},
   "source": [
    "## III. 1. Label Image"
   ]
  },
  {
   "cell_type": "markdown",
   "metadata": {},
   "source": [
    "You have three options to how you create your test image :  \n",
    "* [1. Export an image from a square window of a given center `[Lon,Lat]` and `radius` (in meters)](#1.-Export-an-image-from-a-square-window-of-given-center-and-radius)\n",
    "* [2. Export an image from a window given a bounding box `[Lon1, Lat1, Lon2, Lat2]`](#2.-Export-an-image-from-a-window-given-a-bounding-box)\n",
    "* [3. Export the whole area of a network* (for the brave who want to use Earth Engine's Editor)](#3.-Export-the-whole-area-of-a-network)\n",
    "<rb>\n",
    "***  \n",
    "If you want to **export the whole area of a network** (the 3d option), you will have to use Earth Engine's Editor. It will calculate the bounding box of your network.\n",
    "\n",
    "I have already added to the Editor, Sieccao, Saur (zone 1) and Brioude, you can access them by specifying `network_name ='sieccao'` or `network_name='brioude'`, or `network_name='saur'`\n",
    "\n",
    "If your network is not already uploaded to your **Google Earth Editor Assets**, either provide a bounding box covering the whole area of the network (**follow the 2nd option**) OR follow the tutorial [Add Table to Assets](#1.-Add-Table-to-Assets)"
   ]
  },
  {
   "cell_type": "markdown",
   "metadata": {},
   "source": [
    "### Fill only one of the following :\n",
    "#### 1. Export an image from a square window of given center and radius"
   ]
  },
  {
   "cell_type": "code",
   "execution_count": null,
   "metadata": {},
   "outputs": [],
   "source": [
    "lon    = None #@param {type;'number'}\n",
    "lat    = None #@param {type:'number'}\n",
    "point  = [lon,lat]\n",
    "radius = None #@param {type:'number'} #(in meters)"
   ]
  },
  {
   "cell_type": "markdown",
   "metadata": {},
   "source": [
    "#### 2. Export an image from a window given a bounding box"
   ]
  },
  {
   "cell_type": "code",
   "execution_count": null,
   "metadata": {},
   "outputs": [],
   "source": [
    "minLng    = None #@param {type:'number'}\n",
    "minLat    = None #@param {type:'number'}\n",
    "maxLng    = None #@param {type:'number'}\n",
    "maxLat    = None #@param {type:'number'}\n",
    "rectangle = [minLng, minLat, maxLng, maxLat]"
   ]
  },
  {
   "cell_type": "markdown",
   "metadata": {},
   "source": [
    "#### 3. Export the whole area of a network\n",
    "First, if you want to use this option, either choose network_name to be 'brioude', 'sieccao' or 'saur'. Or add your own network by following the tutorial [Add Table to Assets](#1.-Add-Table-to-Assets)"
   ]
  },
  {
   "cell_type": "code",
   "execution_count": null,
   "metadata": {},
   "outputs": [],
   "source": [
    "# can be 'brioude','sieccao','saur' or the name of the network you just created following the tutorial \"Add Table to Assets\"\n",
    "network_name = None #@param {type:'string'}"
   ]
  },
  {
   "cell_type": "markdown",
   "metadata": {},
   "source": [
    "### Prediction :\n",
    "#### a) First go to your browser and connect to the Google Drive you used to authenticate to Earth Engine.\n",
    "\n",
    "#### b) Run the following code to construct your image  \n",
    "  \n",
    "*Every time your run a code, if you receive a message like this : \"Please download file from Drive from folder ...\", go to the Google Drive and to the folder mentioned, and download the file in the same folder on your computer.*\n",
    "\n"
   ]
  },
  {
   "cell_type": "code",
   "execution_count": null,
   "metadata": {},
   "outputs": [],
   "source": [
    "# Construct inference dataset\n",
    "tfdataconstructor = TFDatasetConstruction(LANDSAT,SENTINEL,RESPONSE,KERNEL_SIZE)\n",
    "corners = tfdataconstructor.test_dataset_construction(start_date,end_date,image_name,network_name=network_name,point=point,radius=radius,rectangle=rectangle)"
   ]
  },
  {
   "cell_type": "code",
   "execution_count": null,
   "metadata": {},
   "outputs": [],
   "source": [
    "# Load inference dataset\n",
    "tfdataloader = TFDatasetProcessing(FEATURES_DICT,FEATURES,BANDS,NUM_FEATURES,None)\n",
    "testdataset  = tfdataloader.get_inference_dataset(image_name)\n",
    "NUM_FEATURES = tfdataloader.num_features\n",
    "\n",
    "# Predict and write predictions to .tfrecord (this file will only be useful if you run the III.2.)\n",
    "inference = Inference(NUM_CLASSES,MODEL_NAME)\n",
    "predictions = inference.doMLPrediction(testdataset,image_name,NUM_FEATURES,perform_crf=PERFORM_CRF)\n",
    "\n",
    "# Downloads the label image as KML \n",
    "download_kml(predictions,image_name,*corners)"
   ]
  },
  {
   "cell_type": "markdown",
   "metadata": {},
   "source": [
    "## III. 2. Pipe Classification, Network Statistics and KMLs\n",
    "Two options, one easy but slow that predicts from scratch each pipe, and another tricky but fast that uses your former predictions :\n",
    "* [1. Easy but slow option](#1.-Easy-but-Slow-Option)\n",
    "* [2. Tricky but fast option](#2.-Tricky-but-Fast-Option)\n"
   ]
  },
  {
   "cell_type": "markdown",
   "metadata": {},
   "source": [
    "### 1. Easy but Slow Option \n",
    "#### No need to run the 2nd section \"Label Image\"\n",
    "Using Earth Engine Editor can be tricky for a beginner, so I made the following functions that allow you to assign a class to each pipe and create kml files of colored pipes, without using the editor.\n",
    "These functions are **time consuming** (4 hours for Sieccao for example) but easy to execute.   \n",
    "  \n",
    "*Note* : you should provide a csv of your net (you should have a function in sql_connector.py that does that) with 5 columns :\n",
    "- `Name,lon1, lon2, lat1, lat2`, be careful, the names of the columns should be respected."
   ]
  },
  {
   "cell_type": "code",
   "execution_count": null,
   "metadata": {},
   "outputs": [],
   "source": [
    "# Enter the name of your csv file :\n",
    "coordsfilename = 'data/predictions/coords.csv' #@param \n",
    "\n",
    "# This function assigns a class to each pipe, it takes time to run ! \n",
    "# If you have errors due to multi-processing, set multi_process=False\n",
    "predict_pipes_from_csv(coordsfilename,MODEL_NAME, BANDS, \"2020-01-01\",\"2020-12-31\",multi_process=True)\n",
    "\n",
    "# This function calculates the statistics of the network provided (proportion of each class)\n",
    "get_statistics(coordsfilename)"
   ]
  },
  {
   "cell_type": "code",
   "execution_count": 21,
   "metadata": {},
   "outputs": [],
   "source": [
    "# This functions creates a KML of the network provided where each pipe has a color corresponding to its class\n",
    "#If it takes too long, execute the multi-processing version of color_pipe named mp_color_pipes\n",
    "color_pipes(coordsfilename) \n",
    "\n",
    "def mp_color_pipes(file_name) :\n",
    "    import simplekml\n",
    "    import pandas as pd\n",
    "    import matplotlib\n",
    "    import numpy as np\n",
    "    import os\n",
    "    ds_test = pd.read_csv(file_name)\n",
    "    lines = (ds_test['Name'], ds_test['lon1'], ds_test['lat1'], ds_test['lon2'], ds_test['lat2'], ds_test['landcover'])\n",
    "    kml = simplekml.Kml()\n",
    "    ids, lons1, lats1, lons2, lats2, classes = lines\n",
    "    \n",
    "    def color(id, lon1, lat1, lon2, lat2, classe):\n",
    "        line = kml.newlinestring(name=str(id), coords=[(lon1,lat1), (lon2,lat2)])\n",
    "        if classe == 0:\n",
    "            r,g,b = np.multiply(255,matplotlib.colors.to_rgb('lime')).astype(int)\n",
    "        elif classe == 1:\n",
    "            r,g,b = np.multiply(255,matplotlib.colors.to_rgb('darkgreen')).astype(int)\n",
    "        elif classe == 2:\n",
    "            r,g,b = np.multiply(255,matplotlib.colors.to_rgb('yellow')).astype(int)\n",
    "        else:\n",
    "            r,g,b = np.multiply(255,matplotlib.colors.to_rgb('blue')).astype(int)\n",
    "        line.style.linestyle.color = simplekml.Color.rgb(r,g,b)\n",
    "\n",
    "    def color_wrapper(args):\n",
    "        color(*args)\n",
    "        \n",
    "    from multiprocessing.pool import ThreadPool as Pool\n",
    "    p = Pool(5)\n",
    "    \n",
    "    inputs = zip(ids, lons1, lats1, lons2, lats2, classes)\n",
    "    p.map(color_wrapper,inputs)\n",
    "    name = os.path.splitext(os.path.basename(file_name))[0].split('_classification')[0]\n",
    "    kml.save('data/predictions/colored_pipes/'+name+'_colored.kml')"
   ]
  },
  {
   "cell_type": "code",
   "execution_count": 22,
   "metadata": {},
   "outputs": [],
   "source": [
    "coordsfilename = 'data/predictions/coords.csv' #@param \n",
    "mp_color_pipes(coordsfilename)"
   ]
  },
  {
   "cell_type": "markdown",
   "metadata": {},
   "source": [
    "### 2. Tricky but Fast Option \n",
    "#### Requires you use Earth Engine Editor and you run first the section II.Label Image\n",
    "The following functions are VERY fast, but in order to run them, you should add your predictions (calculated in the 2nd section) to your Google Earth Editor's Assets by following the tutorial [Add Image to Assets](#2.-Add-Image-to-Assets)"
   ]
  },
  {
   "cell_type": "code",
   "execution_count": null,
   "metadata": {},
   "outputs": [],
   "source": [
    "network_name = 'saur' #@param can be 'sieccao', 'brioude', 'saur' or the name of your network you just added to Assets"
   ]
  },
  {
   "cell_type": "code",
   "execution_count": null,
   "metadata": {},
   "outputs": [],
   "source": [
    "#Produce a csv file with pipe names, coordinates and classes\n",
    "predict_pipes(network_name,image_name) #image_name is the name of the image you created in the 2nd section \"creating a label image\"\n",
    "\n",
    "#Formats the csv in order to have the right columns : Name, lon1,lon2,lat1,la2\n",
    "clean_predictions(image_name)\n",
    "filename = 'data/predictions/'+image_name+'_classification.csv'\n",
    "\n",
    "#Calculates statistics of your network (the proportions of each class)\n",
    "get_statistics(filename)"
   ]
  },
  {
   "cell_type": "code",
   "execution_count": null,
   "metadata": {},
   "outputs": [],
   "source": [
    "# This functions creates a KML of the network provided where each pipe has a color corresponding to its class\n",
    "#If it takes too long, execute the multi-processing version of color_pipe named mp_color_pipes\n",
    "color_pipes(filename) \n",
    "\n",
    "def mp_color_pipes(filename) :\n",
    "    import simplekml\n",
    "    import pandas as pd\n",
    "    import matplotlib\n",
    "    import numpy as np\n",
    "    ds_test = pd.read_csv(file_name)\n",
    "    lines = (ds_test['Name'], ds_test['lon1'], ds_test['lat1'], ds_test['lon2'], ds_test['lat2'], ds_test['landcover'])\n",
    "    kml = simplekml.Kml()\n",
    "    ids, lons1, lats1, lons2, lats2, classes = lines\n",
    "    \n",
    "    def color(id, lon1, lat1, lon2, lat2, classe):\n",
    "        line = kml.newlinestring(name=str(id), coords=[(lon1,lat1), (lon2,lat2)])\n",
    "        if classe == 0:\n",
    "            r,g,b = np.multiply(255,matplotlib.colors.to_rgb('lime')).astype(int)\n",
    "        elif classe == 1:\n",
    "            r,g,b = np.multiply(255,matplotlib.colors.to_rgb('darkgreen')).astype(int)\n",
    "        elif classe == 2:\n",
    "            r,g,b = np.multiply(255,matplotlib.colors.to_rgb('yellow')).astype(int)\n",
    "        else:\n",
    "            r,g,b = np.multiply(255,matplotlib.colors.to_rgb('blue')).astype(int)\n",
    "        line.style.linestyle.color = simplekml.Color.rgb(r,g,b)\n",
    "\n",
    "    def color_wrapper(args):\n",
    "        color(*args)\n",
    "        \n",
    "    from multiprocessing.pool import ThreadPool as Pool\n",
    "    p = Pool(5)\n",
    "    \n",
    "    inputs = zip(ids, lons1, lats1, lons2, lats2, classes)\n",
    "    p.map(color_wrapper,inputs)\n",
    "    name = os.path.splitext(os.path.basename(filename))[0].split('_classification')[0]\n",
    "    kml.save('data/predictions/colored_pipes/'+name+'_colored.kml')"
   ]
  },
  {
   "cell_type": "code",
   "execution_count": null,
   "metadata": {},
   "outputs": [],
   "source": [
    "mp_color_pipes(coordsfilename)"
   ]
  },
  {
   "cell_type": "markdown",
   "metadata": {},
   "source": [
    "# IV. Tutorials"
   ]
  },
  {
   "cell_type": "markdown",
   "metadata": {},
   "source": [
    "## 1. Add Table to Assets\n",
    "\n",
    "- If your file is a \"kml\" file, convert it to a \".shp\" file using **QGIS software** : \n",
    "  * Drag your kml to the QGIS window.\n",
    "  * Right-click on your layer and choose \"Export\" then \"Export Feature As\"   \n",
    "  <img src=\"tuto_images/3.PNG\" width=\"400\">  \n",
    "\n",
    "  * Set \"Format\" as \"ESRI Shapefile\" and the CRS as \"EPSG:3857 / Pseudo-Mercator\"  \n",
    "  * Fill \"File name\" to the name of the file. Careful, you should provide the directory : example C:\\....pipe.shp\n",
    "  * Click on \"OK\" and wait, this could take a moment. Now you have created several files, please keep them all.  \n",
    "  <img src=\"tuto_images/4.PNG\" width=\"400\"> \n",
    "    \n",
    "- Upload your files to your Google Earth Engine Editor :   \n",
    "  * Go to https://code.earthengine.google.com/\n",
    "  * Click on \"Assets\", then \"NEW\", then below \"Table Upload\", click on \"Shape files\". Select all the files you just created with QGIS.  \n",
    "  * Name your Table, for example \"saur_zone2\"\n",
    "  * Click on \"UPLOAD\"  \n",
    "  <img src=\"tuto_images/5.PNG\" width=\"400\">\n",
    " \n",
    "Now you can access your table by typing : image = ee.FeatureCollection(assetid) with assetid = directory/network_name.\n",
    "You can find the assetid by clicking on the asset. \n",
    "<img src=\"tuto_images/11.PNG\" width=\"400\">"
   ]
  },
  {
   "cell_type": "markdown",
   "metadata": {},
   "source": [
    "## 2. Add Image to Assets\n",
    "*replace `filename` by the name of your inference image in the tutorial below*\n",
    "\n",
    "- First, if not already done, add your network to Google Earth Editor's Assets following the tutorial in the previous section.\n",
    "- Go to https://code.earthengine.google.com/ .\n",
    "- Click on \"Assets\", then \"NEW\", then below \"Image Upload\", click on \"GeoTIFF\".\n",
    "<img src=\"tuto_images/1.PNG\" width=\"400\">\n",
    "- In \"Sources files\" select the files `pred_filename.TFRecord` and `filename-mixer.json` in your folder 'inference'\n",
    "- Set \"AssetId\" to \"`filename`_pred\"\n",
    "- Click on \"UPLOAD\"\n",
    "<img src=\"tuto_images/2.PNG\" width=\"400\">\n",
    "- On the right corner of your screen, click on \"Tasks\". Check the status of your export.\n",
    "- If there's an error \"cannot read mixer file\", retry the steps above by putting the mixer file before the tfrecord file and vise-versa several times until you succeed, the system bugs sometimes.\n",
    "<img src=\"tuto_images/6.PNG\" width=\"400\">\n",
    "\n",
    "Now you can access your image by typing : image = **ee.Image(assetid)** with assetid = directory/filename_pred.  \n",
    "You can find the assetid by clicking on the asset.\n",
    "<img src=\"tuto_images/7.PNG\" width=\"400\">"
   ]
  }
 ],
 "metadata": {
  "kernelspec": {
   "display_name": "Python 3",
   "language": "python",
   "name": "python3"
  },
  "language_info": {
   "codemirror_mode": {
    "name": "ipython",
    "version": 3
   },
   "file_extension": ".py",
   "mimetype": "text/x-python",
   "name": "python",
   "nbconvert_exporter": "python",
   "pygments_lexer": "ipython3",
   "version": "3.7.9"
  }
 },
 "nbformat": 4,
 "nbformat_minor": 2
}
