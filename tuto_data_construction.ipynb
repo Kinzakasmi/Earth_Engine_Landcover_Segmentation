{
 "cells": [
  {
   "cell_type": "markdown",
   "metadata": {},
   "source": [
    "# Welcome to this tutorial for training dataset construction ! \n",
    "            \n",
    "### There are 2 different steps :   \n",
    ">- 1) Install and import libraries, create folders and define parameters.  \n",
    ">    *Variables followed by **#@param** are variables, you can change them.*\n",
    ">- 2) Construct your dataset. "
   ]
  },
  {
   "cell_type": "markdown",
   "metadata": {},
   "source": [
    "# 1) Libraries\n",
    "### First create a new **virtual environment** then install all requirements by running the following :"
   ]
  },
  {
   "cell_type": "code",
   "execution_count": 1,
   "metadata": {},
   "outputs": [
    {
     "name": "stdout",
     "output_type": "stream",
     "text": [
      "Requirement already satisfied: earthengine-api in c:\\users\\leakm\\anaconda3\\lib\\site-packages (from -r requirements.txt (line 1)) (0.1.248)\n",
      "Requirement already satisfied: tensorflow in c:\\users\\leakm\\anaconda3\\lib\\site-packages (from -r requirements.txt (line 2)) (2.3.0)\n",
      "Requirement already satisfied: numpy in c:\\users\\leakm\\anaconda3\\lib\\site-packages (from -r requirements.txt (line 3)) (1.18.5)\n",
      "Requirement already satisfied: matplotlib in c:\\users\\leakm\\appdata\\roaming\\python\\python38\\site-packages (from -r requirements.txt (line 4)) (3.3.3)\n",
      "Requirement already satisfied: simplekml in c:\\users\\leakm\\anaconda3\\lib\\site-packages (from -r requirements.txt (line 5)) (1.3.5)\n",
      "Requirement already satisfied: osgeo in c:\\users\\leakm\\anaconda3\\lib\\site-packages (from -r requirements.txt (line 6)) (0.0.0)\n",
      "Requirement already satisfied: sklearn in c:\\users\\leakm\\anaconda3\\lib\\site-packages (from -r requirements.txt (line 7)) (0.0)\n",
      "Requirement already satisfied: imblearn in c:\\users\\leakm\\anaconda3\\lib\\site-packages (from -r requirements.txt (line 8)) (0.0)\n",
      "Requirement already satisfied: joblib in c:\\users\\leakm\\anaconda3\\lib\\site-packages (from -r requirements.txt (line 9)) (0.16.0)\n",
      "Requirement already satisfied: umap in c:\\users\\leakm\\anaconda3\\lib\\site-packages (from -r requirements.txt (line 10)) (0.1.1)\n",
      "Requirement already satisfied: seaborn in c:\\users\\leakm\\anaconda3\\lib\\site-packages (from -r requirements.txt (line 11)) (0.10.1)\n",
      "Requirement already satisfied: pandas in c:\\users\\leakm\\anaconda3\\lib\\site-packages (from -r requirements.txt (line 12)) (1.0.5)\n",
      "Requirement already satisfied: six in c:\\users\\leakm\\anaconda3\\lib\\site-packages (from earthengine-api->-r requirements.txt (line 1)) (1.15.0)\n",
      "Requirement already satisfied: httplib2<1dev,>=0.9.2 in c:\\users\\leakm\\anaconda3\\lib\\site-packages (from earthengine-api->-r requirements.txt (line 1)) (0.18.1)\n",
      "Requirement already satisfied: future in c:\\users\\leakm\\anaconda3\\lib\\site-packages (from earthengine-api->-r requirements.txt (line 1)) (0.18.2)\n",
      "Requirement already satisfied: google-auth-httplib2>=0.0.3 in c:\\users\\leakm\\anaconda3\\lib\\site-packages (from earthengine-api->-r requirements.txt (line 1)) (0.0.4)\n",
      "Requirement already satisfied: google-cloud-storage in c:\\users\\leakm\\anaconda3\\lib\\site-packages (from earthengine-api->-r requirements.txt (line 1)) (1.35.0)\n",
      "Requirement already satisfied: google-auth>=1.4.1 in c:\\users\\leakm\\anaconda3\\lib\\site-packages (from earthengine-api->-r requirements.txt (line 1)) (1.20.1)\n",
      "Requirement already satisfied: google-api-python-client>=1.12.1 in c:\\users\\leakm\\anaconda3\\lib\\site-packages (from earthengine-api->-r requirements.txt (line 1)) (1.12.8)\n",
      "Requirement already satisfied: httplib2shim in c:\\users\\leakm\\anaconda3\\lib\\site-packages (from earthengine-api->-r requirements.txt (line 1)) (0.0.3)\n",
      "Requirement already satisfied: wheel>=0.26 in c:\\users\\leakm\\anaconda3\\lib\\site-packages (from tensorflow->-r requirements.txt (line 2)) (0.34.2)\n",
      "Requirement already satisfied: grpcio>=1.8.6 in c:\\users\\leakm\\anaconda3\\lib\\site-packages (from tensorflow->-r requirements.txt (line 2)) (1.31.0)\n",
      "Requirement already satisfied: opt-einsum>=2.3.2 in c:\\users\\leakm\\anaconda3\\lib\\site-packages (from tensorflow->-r requirements.txt (line 2)) (3.3.0)\n",
      "Requirement already satisfied: gast==0.3.3 in c:\\users\\leakm\\anaconda3\\lib\\site-packages (from tensorflow->-r requirements.txt (line 2)) (0.3.3)\n",
      "Requirement already satisfied: google-pasta>=0.1.8 in c:\\users\\leakm\\anaconda3\\lib\\site-packages (from tensorflow->-r requirements.txt (line 2)) (0.2.0)\n",
      "Requirement already satisfied: tensorflow-estimator<2.4.0,>=2.3.0 in c:\\users\\leakm\\anaconda3\\lib\\site-packages (from tensorflow->-r requirements.txt (line 2)) (2.3.0)\n",
      "Requirement already satisfied: h5py<2.11.0,>=2.10.0 in c:\\users\\leakm\\anaconda3\\lib\\site-packages (from tensorflow->-r requirements.txt (line 2)) (2.10.0)\n",
      "Requirement already satisfied: wrapt>=1.11.1 in c:\\users\\leakm\\anaconda3\\lib\\site-packages (from tensorflow->-r requirements.txt (line 2)) (1.11.2)\n",
      "Requirement already satisfied: scipy==1.4.1 in c:\\users\\leakm\\anaconda3\\lib\\site-packages (from tensorflow->-r requirements.txt (line 2)) (1.4.1)\n",
      "Requirement already satisfied: keras-preprocessing<1.2,>=1.1.1 in c:\\users\\leakm\\anaconda3\\lib\\site-packages (from tensorflow->-r requirements.txt (line 2)) (1.1.2)\n",
      "Requirement already satisfied: protobuf>=3.9.2 in c:\\users\\leakm\\anaconda3\\lib\\site-packages (from tensorflow->-r requirements.txt (line 2)) (3.13.0)\n",
      "Requirement already satisfied: astunparse==1.6.3 in c:\\users\\leakm\\anaconda3\\lib\\site-packages (from tensorflow->-r requirements.txt (line 2)) (1.6.3)\n",
      "Requirement already satisfied: termcolor>=1.1.0 in c:\\users\\leakm\\anaconda3\\lib\\site-packages (from tensorflow->-r requirements.txt (line 2)) (1.1.0)\n",
      "Requirement already satisfied: absl-py>=0.7.0 in c:\\users\\leakm\\anaconda3\\lib\\site-packages (from tensorflow->-r requirements.txt (line 2)) (0.9.0)\n",
      "Requirement already satisfied: tensorboard<3,>=2.3.0 in c:\\users\\leakm\\anaconda3\\lib\\site-packages (from tensorflow->-r requirements.txt (line 2)) (2.3.0)\n",
      "Requirement already satisfied: python-dateutil>=2.1 in c:\\users\\leakm\\anaconda3\\lib\\site-packages (from matplotlib->-r requirements.txt (line 4)) (2.8.1)\n",
      "Requirement already satisfied: pillow>=6.2.0 in c:\\users\\leakm\\anaconda3\\lib\\site-packages (from matplotlib->-r requirements.txt (line 4)) (7.2.0)\n",
      "Requirement already satisfied: kiwisolver>=1.0.1 in c:\\users\\leakm\\anaconda3\\lib\\site-packages (from matplotlib->-r requirements.txt (line 4)) (1.2.0)\n",
      "Requirement already satisfied: cycler>=0.10 in c:\\users\\leakm\\anaconda3\\lib\\site-packages (from matplotlib->-r requirements.txt (line 4)) (0.10.0)\n",
      "Requirement already satisfied: pyparsing!=2.0.4,!=2.1.2,!=2.1.6,>=2.0.3 in c:\\users\\leakm\\anaconda3\\lib\\site-packages (from matplotlib->-r requirements.txt (line 4)) (2.4.7)\n",
      "Requirement already satisfied: scikit-learn in c:\\users\\leakm\\anaconda3\\lib\\site-packages (from sklearn->-r requirements.txt (line 7)) (0.23.1)\n",
      "Requirement already satisfied: imbalanced-learn in c:\\users\\leakm\\anaconda3\\lib\\site-packages (from imblearn->-r requirements.txt (line 8)) (0.7.0)\n",
      "Requirement already satisfied: pytz>=2017.2 in c:\\users\\leakm\\anaconda3\\lib\\site-packages (from pandas->-r requirements.txt (line 12)) (2020.1)\n",
      "Requirement already satisfied: google-cloud-core<2.0dev,>=1.4.1 in c:\\users\\leakm\\anaconda3\\lib\\site-packages (from google-cloud-storage->earthengine-api->-r requirements.txt (line 1)) (1.5.0)\n",
      "Requirement already satisfied: requests<3.0.0dev,>=2.18.0 in c:\\users\\leakm\\anaconda3\\lib\\site-packages (from google-cloud-storage->earthengine-api->-r requirements.txt (line 1)) (2.24.0)\n",
      "Requirement already satisfied: google-resumable-media<2.0dev,>=1.2.0 in c:\\users\\leakm\\anaconda3\\lib\\site-packages (from google-cloud-storage->earthengine-api->-r requirements.txt (line 1)) (1.2.0)\n",
      "Requirement already satisfied: setuptools>=40.3.0 in c:\\users\\leakm\\anaconda3\\lib\\site-packages (from google-auth>=1.4.1->earthengine-api->-r requirements.txt (line 1)) (49.2.0.post20200714)\n",
      "Requirement already satisfied: rsa<5,>=3.1.4; python_version >= \"3.5\" in c:\\users\\leakm\\anaconda3\\lib\\site-packages (from google-auth>=1.4.1->earthengine-api->-r requirements.txt (line 1)) (4.6)\n",
      "Requirement already satisfied: cachetools<5.0,>=2.0.0 in c:\\users\\leakm\\anaconda3\\lib\\site-packages (from google-auth>=1.4.1->earthengine-api->-r requirements.txt (line 1)) (4.1.1)\n",
      "Requirement already satisfied: pyasn1-modules>=0.2.1 in c:\\users\\leakm\\anaconda3\\lib\\site-packages (from google-auth>=1.4.1->earthengine-api->-r requirements.txt (line 1)) (0.2.8)\n",
      "Requirement already satisfied: google-api-core<2dev,>=1.21.0 in c:\\users\\leakm\\anaconda3\\lib\\site-packages (from google-api-python-client>=1.12.1->earthengine-api->-r requirements.txt (line 1)) (1.25.1)\n",
      "Requirement already satisfied: uritemplate<4dev,>=3.0.0 in c:\\users\\leakm\\anaconda3\\lib\\site-packages (from google-api-python-client>=1.12.1->earthengine-api->-r requirements.txt (line 1)) (3.0.1)\n",
      "Requirement already satisfied: certifi in c:\\users\\leakm\\anaconda3\\lib\\site-packages (from httplib2shim->earthengine-api->-r requirements.txt (line 1)) (2020.6.20)\n",
      "Requirement already satisfied: urllib3 in c:\\users\\leakm\\anaconda3\\lib\\site-packages (from httplib2shim->earthengine-api->-r requirements.txt (line 1)) (1.25.9)\n",
      "Requirement already satisfied: markdown>=2.6.8 in c:\\users\\leakm\\anaconda3\\lib\\site-packages (from tensorboard<3,>=2.3.0->tensorflow->-r requirements.txt (line 2)) (3.2.2)\n",
      "Requirement already satisfied: google-auth-oauthlib<0.5,>=0.4.1 in c:\\users\\leakm\\anaconda3\\lib\\site-packages (from tensorboard<3,>=2.3.0->tensorflow->-r requirements.txt (line 2)) (0.4.1)\n",
      "Requirement already satisfied: tensorboard-plugin-wit>=1.6.0 in c:\\users\\leakm\\anaconda3\\lib\\site-packages (from tensorboard<3,>=2.3.0->tensorflow->-r requirements.txt (line 2)) (1.7.0)\n",
      "Requirement already satisfied: werkzeug>=0.11.15 in c:\\users\\leakm\\anaconda3\\lib\\site-packages (from tensorboard<3,>=2.3.0->tensorflow->-r requirements.txt (line 2)) (1.0.1)\n",
      "Requirement already satisfied: threadpoolctl>=2.0.0 in c:\\users\\leakm\\anaconda3\\lib\\site-packages (from scikit-learn->sklearn->-r requirements.txt (line 7)) (2.1.0)\n",
      "Requirement already satisfied: chardet<4,>=3.0.2 in c:\\users\\leakm\\anaconda3\\lib\\site-packages (from requests<3.0.0dev,>=2.18.0->google-cloud-storage->earthengine-api->-r requirements.txt (line 1)) (3.0.4)\n",
      "Requirement already satisfied: idna<3,>=2.5 in c:\\users\\leakm\\anaconda3\\lib\\site-packages (from requests<3.0.0dev,>=2.18.0->google-cloud-storage->earthengine-api->-r requirements.txt (line 1)) (2.10)\n",
      "Requirement already satisfied: google-crc32c<2.0dev,>=1.0; python_version >= \"3.5\" in c:\\users\\leakm\\anaconda3\\lib\\site-packages (from google-resumable-media<2.0dev,>=1.2.0->google-cloud-storage->earthengine-api->-r requirements.txt (line 1)) (1.1.2)\n",
      "Requirement already satisfied: pyasn1>=0.1.3 in c:\\users\\leakm\\anaconda3\\lib\\site-packages (from rsa<5,>=3.1.4; python_version >= \"3.5\"->google-auth>=1.4.1->earthengine-api->-r requirements.txt (line 1)) (0.4.8)\n",
      "Requirement already satisfied: googleapis-common-protos<2.0dev,>=1.6.0 in c:\\users\\leakm\\anaconda3\\lib\\site-packages (from google-api-core<2dev,>=1.21.0->google-api-python-client>=1.12.1->earthengine-api->-r requirements.txt (line 1)) (1.52.0)\n",
      "Requirement already satisfied: requests-oauthlib>=0.7.0 in c:\\users\\leakm\\anaconda3\\lib\\site-packages (from google-auth-oauthlib<0.5,>=0.4.1->tensorboard<3,>=2.3.0->tensorflow->-r requirements.txt (line 2)) (1.3.0)\n",
      "Requirement already satisfied: cffi>=1.0.0 in c:\\users\\leakm\\anaconda3\\lib\\site-packages (from google-crc32c<2.0dev,>=1.0; python_version >= \"3.5\"->google-resumable-media<2.0dev,>=1.2.0->google-cloud-storage->earthengine-api->-r requirements.txt (line 1)) (1.14.0)\n",
      "Requirement already satisfied: oauthlib>=3.0.0 in c:\\users\\leakm\\anaconda3\\lib\\site-packages (from requests-oauthlib>=0.7.0->google-auth-oauthlib<0.5,>=0.4.1->tensorboard<3,>=2.3.0->tensorflow->-r requirements.txt (line 2)) (3.1.0)\n",
      "Requirement already satisfied: pycparser in c:\\users\\leakm\\anaconda3\\lib\\site-packages (from cffi>=1.0.0->google-crc32c<2.0dev,>=1.0; python_version >= \"3.5\"->google-resumable-media<2.0dev,>=1.2.0->google-cloud-storage->earthengine-api->-r requirements.txt (line 1)) (2.20)\n"
     ]
    }
   ],
   "source": [
    "!pip install -r requirements.txt"
   ]
  },
  {
   "cell_type": "markdown",
   "metadata": {},
   "source": [
    "### Create all folders you will need"
   ]
  },
  {
   "cell_type": "code",
   "execution_count": 1,
   "metadata": {},
   "outputs": [],
   "source": [
    "from utils import create_folders\n",
    "create_folders()"
   ]
  },
  {
   "cell_type": "markdown",
   "metadata": {},
   "source": [
    "### Your directory shoud be as following :\n",
    "Check if the folders (the ones **in bold**) are in your directory.\n",
    "- **Main folder**\n",
    "    >- **models**\n",
    "    >    >* .joblib files (sklearn models)\n",
    "    >    >* .sav files (mappers such as pca and umap)\n",
    "    >    >* folders (tensorflow models)\n",
    "    >- **results**\n",
    "    >    >* .png images (confusion matrices)\n",
    "    >    >* .log files (tensorflow training curves)\n",
    "    >- **data**\n",
    "    >    >- **train**\n",
    "    >    >    * train*.tfrecord.gz files (training dataset)\n",
    "    >    >- **eval**\n",
    "    >    >    * traineval*.tfrecord.gz files (evaluation dataset)\n",
    "    >    >- **inference**\n",
    "    >    >   * .tfrecord.gz files (inference dataset)\n",
    "    >    >   * *-mixer.json files (needed for georeferencing, if you want to add the prediction to Earth Engine Editor)\n",
    "    >    >- **predictions**\n",
    "    >    >    - **colored_pipes**\n",
    "    >    >        * .kml files (colored-pipe nets corresponding to labels)\n",
    "    >    >    - **kml**\n",
    "    >    >        * .kml files and corresponding .png images (mask-prediction images)\n",
    "    >    >    - **tfrecords**\n",
    "    >    >        * .TFRecord files (needed if you want to add the prediction to Earth Engine Editor)\n",
    "    >    >    * .csv files"
   ]
  },
  {
   "cell_type": "markdown",
   "metadata": {},
   "source": [
    "### Import, authenticate and initialize the Earth Engine library.  \n",
    "If you have a gmail account, do so with yours, if not, you can use this one :  \n",
    "Gmail adress : [mounierseb93@gmail.com]    \n",
    "Code : [mounse$15]"
   ]
  },
  {
   "cell_type": "code",
   "execution_count": null,
   "metadata": {},
   "outputs": [],
   "source": [
    "import ee\n",
    "ee.Authenticate()\n",
    "ee.Initialize()"
   ]
  },
  {
   "cell_type": "code",
   "execution_count": null,
   "metadata": {},
   "outputs": [],
   "source": [
    "import tensorflow as tf"
   ]
  },
  {
   "cell_type": "code",
   "execution_count": null,
   "metadata": {},
   "outputs": [],
   "source": [
    "from dataset_construction import TFDatasetConstruction"
   ]
  },
  {
   "cell_type": "code",
   "execution_count": null,
   "metadata": {},
   "outputs": [],
   "source": [
    "# Specify inputs (Landsat bands) to the model and the response variable.\n",
    "LANDSAT  = ['B1', 'B2', 'B3', 'B4', 'B5', 'B6', 'B7', 'B10', 'B11']\n",
    "SENTINEL = ['VV','VH','VV_1','VH_1']\n",
    "RESPONSE = 'landcover'\n",
    "# Specify the size and shape of patches expected by the model.\n",
    "KERNEL_SIZE   = 128 #@param {type:\"integer\"}"
   ]
  },
  {
   "cell_type": "markdown",
   "metadata": {},
   "source": [
    "# 2) Dataset Construction  \n",
    "a) First connect to Google Drive using this address and password :  \n",
    "Gmail adress : [mounierseb93@gmail.com]  \n",
    "Code : [mounse$15]\n",
    "\n",
    "**Every time your run a code, if you receive a message like this : \"Please download file from Drive from folder ...\", go to the Google Drive and to the folder mentioned, and download the file in the same folder on your computer.**\n",
    "\n",
    "b) Run the following only if you haven't already access to the training dataset (.tfrecord.gz in folders 'train' and 'eval') \n"
   ]
  },
  {
   "cell_type": "code",
   "execution_count": null,
   "metadata": {},
   "outputs": [],
   "source": [
    "# Export training and evaluation tfrecords\n",
    "tfdataconstructor = TFDatasetConstruction(LANDSAT,SENTINEL,RESPONSE,KERNEL_SIZE)\n",
    "tfdataconstructor.dataset_construction(\"2017-01-01\",\"2017-12-31\") #the date should not change since the label dataset is from 2017"
   ]
  }
 ],
 "metadata": {
  "kernelspec": {
   "display_name": "Python 3",
   "language": "python",
   "name": "python3"
  },
  "language_info": {
   "codemirror_mode": {
    "name": "ipython",
    "version": 3
   },
   "file_extension": ".py",
   "mimetype": "text/x-python",
   "name": "python",
   "nbconvert_exporter": "python",
   "pygments_lexer": "ipython3",
   "version": "3.7.9"
  }
 },
 "nbformat": 4,
 "nbformat_minor": 2
}
